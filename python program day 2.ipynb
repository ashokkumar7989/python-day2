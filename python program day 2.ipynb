{
  "nbformat": 4,
  "nbformat_minor": 0,
  "metadata": {
    "colab": {
      "provenance": []
    },
    "kernelspec": {
      "name": "python3",
      "display_name": "Python 3"
    },
    "language_info": {
      "name": "python"
    }
  },
  "cells": [
    {
      "cell_type": "code",
      "source": [
        "a=10\n",
        "b=20\n",
        "\n",
        "a//b"
      ],
      "metadata": {
        "colab": {
          "base_uri": "https://localhost:8080/"
        },
        "id": "elwD463Qf9zR",
        "outputId": "3dffde15-a3f3-48c1-df68-d4f2058a8297"
      },
      "execution_count": null,
      "outputs": [
        {
          "output_type": "execute_result",
          "data": {
            "text/plain": [
              "0"
            ]
          },
          "metadata": {},
          "execution_count": 4
        }
      ]
    },
    {
      "cell_type": "code",
      "execution_count": null,
      "metadata": {
        "id": "j_H-HL5aYKMs"
      },
      "outputs": [],
      "source": [
        "# prompt: a=10\n",
        "\n",
        "a\n"
      ]
    },
    {
      "cell_type": "code",
      "source": [
        "a=10\n",
        "b=4\n",
        "a/b"
      ],
      "metadata": {
        "colab": {
          "base_uri": "https://localhost:8080/"
        },
        "id": "Iyk5K4VIf_LX",
        "outputId": "a4618c4f-8a8c-4f79-cd17-75355cdc6f5c"
      },
      "execution_count": null,
      "outputs": [
        {
          "output_type": "execute_result",
          "data": {
            "text/plain": [
              "2.5"
            ]
          },
          "metadata": {},
          "execution_count": 5
        }
      ]
    },
    {
      "cell_type": "code",
      "source": [
        "d=7425\n",
        "s=550\n",
        "t=d/s\n",
        "print(t)"
      ],
      "metadata": {
        "colab": {
          "base_uri": "https://localhost:8080/"
        },
        "id": "_0DG0Ba-hUhH",
        "outputId": "f4011b1e-cc4e-4517-fb2c-df7c11fdfffd"
      },
      "execution_count": null,
      "outputs": [
        {
          "output_type": "stream",
          "name": "stdout",
          "text": [
            "13.5\n"
          ]
        }
      ]
    },
    {
      "cell_type": "code",
      "source": [
        "b=50\n",
        "print(\"tip\",20*1024/100)"
      ],
      "metadata": {
        "colab": {
          "base_uri": "https://localhost:8080/"
        },
        "id": "QQu_MXHVh6bW",
        "outputId": "b48b4783-8501-45dc-a39a-a4be4f350473"
      },
      "execution_count": null,
      "outputs": [
        {
          "output_type": "stream",
          "name": "stdout",
          "text": [
            "tip 204.8\n"
          ]
        }
      ]
    },
    {
      "cell_type": "code",
      "source": [
        "b=int(input())\n",
        "t=(                                         b*20)/100\n",
        "print(t)"
      ],
      "metadata": {
        "colab": {
          "base_uri": "https://localhost:8080/"
        },
        "id": "-hfHX2pqjjjy",
        "outputId": "15fe0526-e1bd-4f6e-e913-8f7f250565ee"
      },
      "execution_count": null,
      "outputs": [
        {
          "output_type": "stream",
          "name": "stdout",
          "text": [
            "20\n",
            "4.0\n"
          ]
        }
      ]
    },
    {
      "cell_type": "code",
      "source": [
        "a=10\n",
        "b=20\n",
        "print(a>b)\n",
        "print(a<b)\n",
        "print(a==b)"
      ],
      "metadata": {
        "colab": {
          "base_uri": "https://localhost:8080/"
        },
        "id": "YSOHvln8kofe",
        "outputId": "55fe01d2-1f8f-475d-f558-b5da1e93ce94"
      },
      "execution_count": null,
      "outputs": [
        {
          "output_type": "stream",
          "name": "stdout",
          "text": [
            "False\n",
            "True\n",
            "False\n"
          ]
        }
      ]
    },
    {
      "cell_type": "code",
      "source": [
        "a=True\n",
        "b=False\n",
        "print(a and b )\n",
        "print(a or b)\n",
        "print(not a)"
      ],
      "metadata": {
        "colab": {
          "base_uri": "https://localhost:8080/"
        },
        "id": "8RJSr5eImfJh",
        "outputId": "6502ed3f-4fb6-4f8b-a898-ffc1144e6ecc"
      },
      "execution_count": null,
      "outputs": [
        {
          "output_type": "stream",
          "name": "stdout",
          "text": [
            "False\n",
            "True\n",
            "False\n"
          ]
        }
      ]
    },
    {
      "cell_type": "code",
      "source": [
        "a=10\n",
        "b=a\n",
        "print(b)\n",
        "b +=a\n",
        "print(b)\n",
        "b-=a\n",
        "print(b)\n",
        "b *=a\n",
        "print(b)\n",
        "b <<=a\n",
        "print(b)"
      ],
      "metadata": {
        "colab": {
          "base_uri": "https://localhost:8080/"
        },
        "id": "6-9ICCAFnlxu",
        "outputId": "f0830a5d-a9c2-493a-c4ad-88645f8eb61e"
      },
      "execution_count": null,
      "outputs": [
        {
          "output_type": "stream",
          "name": "stdout",
          "text": [
            "10\n",
            "20\n",
            "10\n",
            "100\n",
            "102400\n"
          ]
        }
      ]
    },
    {
      "cell_type": "code",
      "source": [
        "a=10\n",
        "b=20\n",
        "c=a\n",
        "print(a is not b)\n",
        "print(a is c)\n",
        "print(b is c)"
      ],
      "metadata": {
        "colab": {
          "base_uri": "https://localhost:8080/"
        },
        "id": "E6QqQBRJojhb",
        "outputId": "54351e50-df51-4a9a-b122-56b362be6f62"
      },
      "execution_count": null,
      "outputs": [
        {
          "output_type": "stream",
          "name": "stdout",
          "text": [
            "True\n",
            "True\n",
            "False\n"
          ]
        }
      ]
    },
    {
      "cell_type": "code",
      "source": [
        "x=10\n",
        "y=15\n",
        "list=[10,20,30,40,50]\n",
        "if(x not in list):\n",
        "  print(\"x is not in list\")\n",
        "else:\n",
        "    print(\"x is in list\")\n",
        "if(y in list):\n",
        "      print(\"y in present in list\")\n",
        "else:\n",
        "        print(\"y is not in list\")"
      ],
      "metadata": {
        "colab": {
          "base_uri": "https://localhost:8080/"
        },
        "id": "abGU6UufpZ-5",
        "outputId": "a6491c3d-69cd-4055-8691-cd31dc525ecd"
      },
      "execution_count": null,
      "outputs": [
        {
          "output_type": "stream",
          "name": "stdout",
          "text": [
            "x is in list\n",
            "y is not in list\n"
          ]
        }
      ]
    },
    {
      "cell_type": "code",
      "source": [
        "tup1 =(1,2,3)+(4,5,6)\n",
        "list1 = [1,2,3]+[4,5,6]\n",
        "str1 = \"Hello\"+\"\"+\"world\"\n",
        "print(tup1)\n",
        "print(list1)\n",
        "print(str1)"
      ],
      "metadata": {
        "colab": {
          "base_uri": "https://localhost:8080/"
        },
        "id": "LrEvoakyq41t",
        "outputId": "d293834c-04ba-49a2-fb17-9abf26d00310"
      },
      "execution_count": null,
      "outputs": [
        {
          "output_type": "stream",
          "name": "stdout",
          "text": [
            "(1, 2, 3, 4, 5, 6)\n",
            "[1, 2, 3, 4, 5, 6]\n",
            "Holloworld\n"
          ]
        }
      ]
    },
    {
      "cell_type": "code",
      "source": [
        "age=16\n",
        "if (age<18):\n",
        "   print(\"you cant vote\")\n",
        "else:\n",
        " print(\"you cant vote!\")\n",
        "print(\"Done!\")"
      ],
      "metadata": {
        "colab": {
          "base_uri": "https://localhost:8080/"
        },
        "id": "tjCiRl_xsQyp",
        "outputId": "6c7f7b7a-3239-436f-b976-ccfb4c98ca64"
      },
      "execution_count": null,
      "outputs": [
        {
          "output_type": "stream",
          "name": "stdout",
          "text": [
            "you cant vote\n",
            "Done!\n"
          ]
        }
      ]
    },
    {
      "cell_type": "code",
      "source": [
        "age=int(input(\"enter your age\"))\n",
        "if(age>=18):\n",
        "  print(\"you are eligible to vote\")\n",
        "else:\n",
        "    print(\"you are not eligible to vote\")\n",
        "    print(\"Done!\")"
      ],
      "metadata": {
        "colab": {
          "base_uri": "https://localhost:8080/"
        },
        "id": "yP6PfP5_vaxU",
        "outputId": "cfbe7d0f-dded-437a-c03e-d342fe854ef2"
      },
      "execution_count": null,
      "outputs": [
        {
          "output_type": "stream",
          "name": "stdout",
          "text": [
            "enter your age18\n",
            "you are eligible to vote\n"
          ]
        }
      ]
    },
    {
      "cell_type": "code",
      "source": [
        "a=33\n",
        "b=200\n",
        "if b>a:\n",
        "  print(\"b is greater than a\")"
      ],
      "metadata": {
        "colab": {
          "base_uri": "https://localhost:8080/"
        },
        "id": "S6_lJzbLurXT",
        "outputId": "16ca715e-17d7-45a7-bf64-70246e0f2d69"
      },
      "execution_count": null,
      "outputs": [
        {
          "output_type": "stream",
          "name": "stdout",
          "text": [
            "b is greater than a\n"
          ]
        }
      ]
    },
    {
      "cell_type": "code",
      "source": [
        "if 5>0:\n",
        "  print(\"that is true\")"
      ],
      "metadata": {
        "colab": {
          "base_uri": "https://localhost:8080/"
        },
        "id": "nQALihutxbhE",
        "outputId": "ef2a8a50-3897-4429-e258-119f055edee3"
      },
      "execution_count": null,
      "outputs": [
        {
          "output_type": "stream",
          "name": "stdout",
          "text": [
            "that is true\n"
          ]
        }
      ]
    },
    {
      "cell_type": "code",
      "source": [
        "x=35\n",
        "if x > 20:\n",
        "  print(\"above twenty,\")\n",
        "if x>30:\n",
        "  print(\"and also above 30\")"
      ],
      "metadata": {
        "colab": {
          "base_uri": "https://localhost:8080/"
        },
        "id": "WK6_wAAEyQKy",
        "outputId": "8d9c1e4b-557a-435c-99a5-5c8139a18afc"
      },
      "execution_count": null,
      "outputs": [
        {
          "output_type": "stream",
          "name": "stdout",
          "text": [
            "above twenty,\n",
            "and also above 30\n"
          ]
        }
      ]
    },
    {
      "cell_type": "code",
      "source": [
        "a=200\n",
        "b=33\n",
        "if b>a:\n",
        "  print(\"b is greater than a\")\n",
        "elif (a==b):\n",
        "  print(\"a and b are equal\")\n",
        "else:\n",
        "  print(\"a is greater than b\")"
      ],
      "metadata": {
        "colab": {
          "base_uri": "https://localhost:8080/"
        },
        "id": "Rr0q56sqy9gf",
        "outputId": "79b30957-37d3-4667-a090-5a44c0ac94c0"
      },
      "execution_count": null,
      "outputs": [
        {
          "output_type": "stream",
          "name": "stdout",
          "text": [
            "a is greater than b\n"
          ]
        }
      ]
    },
    {
      "cell_type": "code",
      "source": [
        "num=int(input(\"enter a number\"))\n",
        "if num % 2 ==0:\n",
        "print(\"even\")\n",
        "else:\n",
        "print(\"odd\")"
      ],
      "metadata": {
        "colab": {
          "base_uri": "https://localhost:8080/",
          "height": 106
        },
        "id": "YPBJdQ8U0IBN",
        "outputId": "fc55ec5d-1097-4813-ff6c-7060c7c36840"
      },
      "execution_count": null,
      "outputs": [
        {
          "output_type": "error",
          "ename": "IndentationError",
          "evalue": "expected an indented block after 'if' statement on line 2 (<ipython-input-75-2690cd6aa610>, line 3)",
          "traceback": [
            "\u001b[0;36m  File \u001b[0;32m\"<ipython-input-75-2690cd6aa610>\"\u001b[0;36m, line \u001b[0;32m3\u001b[0m\n\u001b[0;31m    print(\"even\")\u001b[0m\n\u001b[0m    ^\u001b[0m\n\u001b[0;31mIndentationError\u001b[0m\u001b[0;31m:\u001b[0m expected an indented block after 'if' statement on line 2\n"
          ]
        }
      ]
    },
    {
      "cell_type": "code",
      "source": [
        "weight = int(input(\"enter your weight:\"))\n",
        "height = float(input(\"enter your height:\"))\n",
        "bmi = weight/(height*height)\n",
        "if(bmi<18.5):\n",
        "  print(\"underweight\")\n",
        "elif(bmi>=18.5 and bmi<25):\n",
        "  print(\"normal\")\n",
        "elif(bmi>=25 and bmi<30):\n",
        "  print(\"overweight\")\n",
        "else:\n",
        "  print(\"obese\")\n",
        "\n"
      ],
      "metadata": {
        "id": "630Dllf51ucw"
      },
      "execution_count": null,
      "outputs": []
    }
  ]
}